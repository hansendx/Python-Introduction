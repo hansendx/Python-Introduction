{
 "metadata": {
  "language_info": {
   "codemirror_mode": {
    "name": "ipython",
    "version": 3
   },
   "file_extension": ".py",
   "mimetype": "text/x-python",
   "name": "python",
   "nbconvert_exporter": "python",
   "pygments_lexer": "ipython3",
   "version": "3.8.5"
  },
  "orig_nbformat": 2,
  "kernelspec": {
   "name": "python385jvsc74a57bd0a50ab9f5ae6f3f71dbaf9800c62f6f9c63fbe335751a679a6aa720670a4f2db5",
   "display_name": "Python 3.8.5 64-bit ('Python-Introduction': pipenv)"
  }
 },
 "nbformat": 4,
 "nbformat_minor": 2,
 "cells": [
  {
   "cell_type": "code",
   "execution_count": 1,
   "metadata": {},
   "outputs": [],
   "source": [
    "import time\n",
    "\n",
    "import pandas\n",
    "import numpy\n",
    "import math\n",
    "\n",
    "from typing import List, Sized\n",
    "\n",
    "from IPython.display import Markdown\n",
    "from pandas.api.types import CategoricalDtype"
   ]
  },
  {
   "source": [
    "# You can enrich your notebook with Markdown"
   ],
   "cell_type": "markdown",
   "metadata": {}
  },
  {
   "cell_type": "code",
   "execution_count": 2,
   "metadata": {},
   "outputs": [],
   "source": [
    "mtcars = pandas.read_stata(\"./mtcars.dta\")"
   ]
  },
  {
   "cell_type": "code",
   "execution_count": 4,
   "metadata": {},
   "outputs": [
    {
     "output_type": "execute_result",
     "data": {
      "text/plain": [
       "              name   mpg  cyl   disp   hp  drat     wt   qsec  vs  am  gear  \\\n",
       "0        Mazda RX4  21.0    6  160.0  110  3.90  2.620  16.46   0   1     4   \n",
       "1    Mazda RX4 Wag  21.0    6  160.0  110  3.90  2.875  17.02   0   1     4   \n",
       "2       Datsun 710  22.8    4  108.0   93  3.85  2.320  18.61   1   1     4   \n",
       "17        Fiat 128  32.4    4   78.7   66  4.08  2.200  19.47   1   1     4   \n",
       "18     Honda Civic  30.4    4   75.7   52  4.93  1.615  18.52   1   1     4   \n",
       "19  Toyota Corolla  33.9    4   71.1   65  4.22  1.835  19.90   1   1     4   \n",
       "25       Fiat X1-9  27.3    4   79.0   66  4.08  1.935  18.90   1   1     4   \n",
       "26   Porsche 914-2  26.0    4  120.3   91  4.43  2.140  16.70   0   1     5   \n",
       "27    Lotus Europa  30.4    4   95.1  113  3.77  1.513  16.90   1   1     5   \n",
       "28  Ford Pantera L  15.8    8  351.0  264  4.22  3.170  14.50   0   1     5   \n",
       "29    Ferrari Dino  19.7    6  145.0  175  3.62  2.770  15.50   0   1     5   \n",
       "30   Maserati Bora  15.0    8  301.0  335  3.54  3.570  14.60   0   1     5   \n",
       "31      Volvo 142E  21.4    4  121.0  109  4.11  2.780  18.60   1   1     4   \n",
       "\n",
       "    carb  \n",
       "0      4  \n",
       "1      4  \n",
       "2      1  \n",
       "17     1  \n",
       "18     2  \n",
       "19     1  \n",
       "25     1  \n",
       "26     2  \n",
       "27     2  \n",
       "28     4  \n",
       "29     6  \n",
       "30     8  \n",
       "31     2  "
      ],
      "text/html": "<div>\n<style scoped>\n    .dataframe tbody tr th:only-of-type {\n        vertical-align: middle;\n    }\n\n    .dataframe tbody tr th {\n        vertical-align: top;\n    }\n\n    .dataframe thead th {\n        text-align: right;\n    }\n</style>\n<table border=\"1\" class=\"dataframe\">\n  <thead>\n    <tr style=\"text-align: right;\">\n      <th></th>\n      <th>name</th>\n      <th>mpg</th>\n      <th>cyl</th>\n      <th>disp</th>\n      <th>hp</th>\n      <th>drat</th>\n      <th>wt</th>\n      <th>qsec</th>\n      <th>vs</th>\n      <th>am</th>\n      <th>gear</th>\n      <th>carb</th>\n    </tr>\n  </thead>\n  <tbody>\n    <tr>\n      <th>0</th>\n      <td>Mazda RX4</td>\n      <td>21.0</td>\n      <td>6</td>\n      <td>160.0</td>\n      <td>110</td>\n      <td>3.90</td>\n      <td>2.620</td>\n      <td>16.46</td>\n      <td>0</td>\n      <td>1</td>\n      <td>4</td>\n      <td>4</td>\n    </tr>\n    <tr>\n      <th>1</th>\n      <td>Mazda RX4 Wag</td>\n      <td>21.0</td>\n      <td>6</td>\n      <td>160.0</td>\n      <td>110</td>\n      <td>3.90</td>\n      <td>2.875</td>\n      <td>17.02</td>\n      <td>0</td>\n      <td>1</td>\n      <td>4</td>\n      <td>4</td>\n    </tr>\n    <tr>\n      <th>2</th>\n      <td>Datsun 710</td>\n      <td>22.8</td>\n      <td>4</td>\n      <td>108.0</td>\n      <td>93</td>\n      <td>3.85</td>\n      <td>2.320</td>\n      <td>18.61</td>\n      <td>1</td>\n      <td>1</td>\n      <td>4</td>\n      <td>1</td>\n    </tr>\n    <tr>\n      <th>17</th>\n      <td>Fiat 128</td>\n      <td>32.4</td>\n      <td>4</td>\n      <td>78.7</td>\n      <td>66</td>\n      <td>4.08</td>\n      <td>2.200</td>\n      <td>19.47</td>\n      <td>1</td>\n      <td>1</td>\n      <td>4</td>\n      <td>1</td>\n    </tr>\n    <tr>\n      <th>18</th>\n      <td>Honda Civic</td>\n      <td>30.4</td>\n      <td>4</td>\n      <td>75.7</td>\n      <td>52</td>\n      <td>4.93</td>\n      <td>1.615</td>\n      <td>18.52</td>\n      <td>1</td>\n      <td>1</td>\n      <td>4</td>\n      <td>2</td>\n    </tr>\n    <tr>\n      <th>19</th>\n      <td>Toyota Corolla</td>\n      <td>33.9</td>\n      <td>4</td>\n      <td>71.1</td>\n      <td>65</td>\n      <td>4.22</td>\n      <td>1.835</td>\n      <td>19.90</td>\n      <td>1</td>\n      <td>1</td>\n      <td>4</td>\n      <td>1</td>\n    </tr>\n    <tr>\n      <th>25</th>\n      <td>Fiat X1-9</td>\n      <td>27.3</td>\n      <td>4</td>\n      <td>79.0</td>\n      <td>66</td>\n      <td>4.08</td>\n      <td>1.935</td>\n      <td>18.90</td>\n      <td>1</td>\n      <td>1</td>\n      <td>4</td>\n      <td>1</td>\n    </tr>\n    <tr>\n      <th>26</th>\n      <td>Porsche 914-2</td>\n      <td>26.0</td>\n      <td>4</td>\n      <td>120.3</td>\n      <td>91</td>\n      <td>4.43</td>\n      <td>2.140</td>\n      <td>16.70</td>\n      <td>0</td>\n      <td>1</td>\n      <td>5</td>\n      <td>2</td>\n    </tr>\n    <tr>\n      <th>27</th>\n      <td>Lotus Europa</td>\n      <td>30.4</td>\n      <td>4</td>\n      <td>95.1</td>\n      <td>113</td>\n      <td>3.77</td>\n      <td>1.513</td>\n      <td>16.90</td>\n      <td>1</td>\n      <td>1</td>\n      <td>5</td>\n      <td>2</td>\n    </tr>\n    <tr>\n      <th>28</th>\n      <td>Ford Pantera L</td>\n      <td>15.8</td>\n      <td>8</td>\n      <td>351.0</td>\n      <td>264</td>\n      <td>4.22</td>\n      <td>3.170</td>\n      <td>14.50</td>\n      <td>0</td>\n      <td>1</td>\n      <td>5</td>\n      <td>4</td>\n    </tr>\n    <tr>\n      <th>29</th>\n      <td>Ferrari Dino</td>\n      <td>19.7</td>\n      <td>6</td>\n      <td>145.0</td>\n      <td>175</td>\n      <td>3.62</td>\n      <td>2.770</td>\n      <td>15.50</td>\n      <td>0</td>\n      <td>1</td>\n      <td>5</td>\n      <td>6</td>\n    </tr>\n    <tr>\n      <th>30</th>\n      <td>Maserati Bora</td>\n      <td>15.0</td>\n      <td>8</td>\n      <td>301.0</td>\n      <td>335</td>\n      <td>3.54</td>\n      <td>3.570</td>\n      <td>14.60</td>\n      <td>0</td>\n      <td>1</td>\n      <td>5</td>\n      <td>8</td>\n    </tr>\n    <tr>\n      <th>31</th>\n      <td>Volvo 142E</td>\n      <td>21.4</td>\n      <td>4</td>\n      <td>121.0</td>\n      <td>109</td>\n      <td>4.11</td>\n      <td>2.780</td>\n      <td>18.60</td>\n      <td>1</td>\n      <td>1</td>\n      <td>4</td>\n      <td>2</td>\n    </tr>\n  </tbody>\n</table>\n</div>"
     },
     "metadata": {},
     "execution_count": 4
    }
   ],
   "source": [
    "higher_gear_manual_cars = mtcars[(mtcars[\"gear\"] > 3) & (mtcars[\"am\"] == 1)]\n",
    "higher_gear_manual_cars"
   ]
  },
  {
   "cell_type": "code",
   "execution_count": 5,
   "metadata": {},
   "outputs": [
    {
     "output_type": "execute_result",
     "data": {
      "text/plain": [
       "              name   mpg\n",
       "19  Toyota Corolla  33.9"
      ],
      "text/html": "<div>\n<style scoped>\n    .dataframe tbody tr th:only-of-type {\n        vertical-align: middle;\n    }\n\n    .dataframe tbody tr th {\n        vertical-align: top;\n    }\n\n    .dataframe thead th {\n        text-align: right;\n    }\n</style>\n<table border=\"1\" class=\"dataframe\">\n  <thead>\n    <tr style=\"text-align: right;\">\n      <th></th>\n      <th>name</th>\n      <th>mpg</th>\n    </tr>\n  </thead>\n  <tbody>\n    <tr>\n      <th>19</th>\n      <td>Toyota Corolla</td>\n      <td>33.9</td>\n    </tr>\n  </tbody>\n</table>\n</div>"
     },
     "metadata": {},
     "execution_count": 5
    }
   ],
   "source": [
    "higher_gear_manual_cars[[\"name\", \"mpg\"]][higher_gear_manual_cars[\"mpg\"] == higher_gear_manual_cars[\"mpg\"].max()]"
   ]
  },
  {
   "cell_type": "code",
   "execution_count": 6,
   "metadata": {},
   "outputs": [
    {
     "output_type": "execute_result",
     "data": {
      "text/plain": [
       "              name   mpg\n",
       "19  Toyota Corolla  33.9"
      ],
      "text/html": "<div>\n<style scoped>\n    .dataframe tbody tr th:only-of-type {\n        vertical-align: middle;\n    }\n\n    .dataframe tbody tr th {\n        vertical-align: top;\n    }\n\n    .dataframe thead th {\n        text-align: right;\n    }\n</style>\n<table border=\"1\" class=\"dataframe\">\n  <thead>\n    <tr style=\"text-align: right;\">\n      <th></th>\n      <th>name</th>\n      <th>mpg</th>\n    </tr>\n  </thead>\n  <tbody>\n    <tr>\n      <th>19</th>\n      <td>Toyota Corolla</td>\n      <td>33.9</td>\n    </tr>\n  </tbody>\n</table>\n</div>"
     },
     "metadata": {},
     "execution_count": 6
    }
   ],
   "source": [
    "higher_gear_manual_cars[[\"name\", \"mpg\"]].loc[[higher_gear_manual_cars[\"mpg\"].idxmax()]]"
   ]
  },
  {
   "cell_type": "code",
   "execution_count": 7,
   "metadata": {},
   "outputs": [
    {
     "output_type": "execute_result",
     "data": {
      "text/plain": [
       "<IPython.core.display.Markdown object>"
      ],
      "text/markdown": "\n# Miles per gallon\n- The Maserati Bora is the car with the lowest miles per gallon value.\n- The Toyota Corolla is the car with the highest miles per gallon value.\n"
     },
     "metadata": {},
     "execution_count": 7
    }
   ],
   "source": [
    "Markdown(\"\"\"\n",
    "# Miles per gallon\n",
    "- The {} is the car with the lowest miles per gallon value.\n",
    "- The {} is the car with the highest miles per gallon value.\n",
    "\"\"\".format(\n",
    "    higher_gear_manual_cars[\"name\"][higher_gear_manual_cars[\"mpg\"].idxmin()],\n",
    "    higher_gear_manual_cars[\"name\"][higher_gear_manual_cars[\"mpg\"].idxmax()]\n",
    ")\n",
    ")\n"
   ]
  },
  {
   "cell_type": "code",
   "execution_count": 8,
   "metadata": {},
   "outputs": [
    {
     "output_type": "execute_result",
     "data": {
      "text/plain": [
       "<IPython.core.display.Markdown object>"
      ],
      "text/markdown": "Existing gear shift ratios: `[3, 4, 5]`\n\nMean miles per gallon for the different gear ratios and transmissions:\n```\n               mpg\ngear am           \n3    0   16.106667\n4    0   21.050000\n     1   26.275000\n5    1   21.380000\n```\n"
     },
     "metadata": {},
     "execution_count": 8
    }
   ],
   "source": [
    "Markdown(\"\"\"Existing gear shift ratios: `{}`\n",
    "\n",
    "Mean miles per gallon for the different gear ratios and transmissions:\n",
    "```\n",
    "{}\n",
    "```\n",
    "\"\"\".format(\n",
    "    sorted(mtcars[\"gear\"].unique()),\n",
    "    mtcars[[\"gear\", \"am\", \"mpg\"]].groupby([\"gear\", \"am\"]).mean()\n",
    ")\n",
    ")"
   ]
  },
  {
   "cell_type": "code",
   "execution_count": 9,
   "metadata": {},
   "outputs": [
    {
     "output_type": "execute_result",
     "data": {
      "text/plain": [
       "dtype('int32')"
      ]
     },
     "metadata": {},
     "execution_count": 9
    }
   ],
   "source": [
    "mtcars[\"am\"].dtype"
   ]
  },
  {
   "cell_type": "code",
   "execution_count": null,
   "metadata": {},
   "outputs": [],
   "source": [
    "pandas.Series(pandas.Categorical.from_codes(mtcars[\"am\"], categories=[\"automatic\", \"manual\"])).dtype"
   ]
  },
  {
   "source": [
    "# NumPy"
   ],
   "cell_type": "markdown",
   "metadata": {}
  },
  {
   "cell_type": "code",
   "execution_count": 12,
   "metadata": {},
   "outputs": [
    {
     "output_type": "stream",
     "name": "stdout",
     "text": [
      "NumPy value: 0.0\n",
      "NumPy time: 0.012920618057250977\n",
      "Vanilla Python value: 0.0\n",
      "Vanilla Python time: 1.0997698307037354\n"
     ]
    }
   ],
   "source": [
    "\n",
    "array = numpy.empty(10000000, dtype=numpy.int64)\n",
    "start = time.time()\n",
    "print(\"NumPy value:\", array.mean())\n",
    "end = time.time()\n",
    "print(\"NumPy time:\", end - start)\n",
    "\n",
    "start = time.time()\n",
    "python_list = [int(item) for item in array]\n",
    "print(\"Vanilla Python value:\", sum(python_list)/len(array))\n",
    "end = time.time()\n",
    "print(\"Vanilla Python time:\", end - start)\n"
   ]
  },
  {
   "cell_type": "code",
   "execution_count": 20,
   "metadata": {},
   "outputs": [
    {
     "output_type": "execute_result",
     "data": {
      "text/plain": [
       "array([['Mazda RX4', 21.0, 6, 160.0, 110, 3.9, 2.62, 16.46, 0, 1, 4, 4],\n",
       "       ['Mazda RX4 Wag', 21.0, 6, 160.0, 110, 3.9, 2.875, 17.02, 0, 1, 4,\n",
       "        4],\n",
       "       ['Datsun 710', 22.8, 4, 108.0, 93, 3.85, 2.32, 18.61, 1, 1, 4, 1],\n",
       "       ['Hornet 4 Drive', 21.4, 6, 258.0, 110, 3.08, 3.215, 19.44, 1, 0,\n",
       "        3, 1],\n",
       "       ['Hornet Sportabout', 18.7, 8, 360.0, 175, 3.15, 3.44, 17.02, 0,\n",
       "        0, 3, 2],\n",
       "       ['Valiant', 18.1, 6, 225.0, 105, 2.76, 3.46, 20.22, 1, 0, 3, 1],\n",
       "       ['Duster 360', 14.3, 8, 360.0, 245, 3.21, 3.57, 15.84, 0, 0, 3, 4],\n",
       "       ['Merc 240D', 24.4, 4, 146.7, 62, 3.69, 3.19, 20.0, 1, 0, 4, 2],\n",
       "       ['Merc 230', 22.8, 4, 140.8, 95, 3.92, 3.15, 22.9, 1, 0, 4, 2],\n",
       "       ['Merc 280', 19.2, 6, 167.6, 123, 3.92, 3.44, 18.3, 1, 0, 4, 4],\n",
       "       ['Merc 280C', 17.8, 6, 167.6, 123, 3.92, 3.44, 18.9, 1, 0, 4, 4],\n",
       "       ['Merc 450SE', 16.4, 8, 275.8, 180, 3.07, 4.07, 17.4, 0, 0, 3, 3],\n",
       "       ['Merc 450SL', 17.3, 8, 275.8, 180, 3.07, 3.73, 17.6, 0, 0, 3, 3],\n",
       "       ['Merc 450SLC', 15.2, 8, 275.8, 180, 3.07, 3.78, 18.0, 0, 0, 3, 3],\n",
       "       ['Cadillac Fleetwood', 10.4, 8, 472.0, 205, 2.93, 5.25, 17.98, 0,\n",
       "        0, 3, 4],\n",
       "       ['Lincoln Continental', 10.4, 8, 460.0, 215, 3.0, 5.424, 17.82, 0,\n",
       "        0, 3, 4],\n",
       "       ['Chrysler Imperial', 14.7, 8, 440.0, 230, 3.23, 5.345, 17.42, 0,\n",
       "        0, 3, 4],\n",
       "       ['Fiat 128', 32.4, 4, 78.7, 66, 4.08, 2.2, 19.47, 1, 1, 4, 1],\n",
       "       ['Honda Civic', 30.4, 4, 75.7, 52, 4.93, 1.615, 18.52, 1, 1, 4, 2],\n",
       "       ['Toyota Corolla', 33.9, 4, 71.1, 65, 4.22, 1.835, 19.9, 1, 1, 4,\n",
       "        1],\n",
       "       ['Toyota Corona', 21.5, 4, 120.1, 97, 3.7, 2.465, 20.01, 1, 0, 3,\n",
       "        1],\n",
       "       ['Dodge Challenger', 15.5, 8, 318.0, 150, 2.76, 3.52, 16.87, 0, 0,\n",
       "        3, 2],\n",
       "       ['AMC Javelin', 15.2, 8, 304.0, 150, 3.15, 3.435, 17.3, 0, 0, 3,\n",
       "        2],\n",
       "       ['Camaro Z28', 13.3, 8, 350.0, 245, 3.73, 3.84, 15.41, 0, 0, 3, 4],\n",
       "       ['Pontiac Firebird', 19.2, 8, 400.0, 175, 3.08, 3.845, 17.05, 0,\n",
       "        0, 3, 2],\n",
       "       ['Fiat X1-9', 27.3, 4, 79.0, 66, 4.08, 1.935, 18.9, 1, 1, 4, 1],\n",
       "       ['Porsche 914-2', 26.0, 4, 120.3, 91, 4.43, 2.14, 16.7, 0, 1, 5,\n",
       "        2],\n",
       "       ['Lotus Europa', 30.4, 4, 95.1, 113, 3.77, 1.513, 16.9, 1, 1, 5,\n",
       "        2],\n",
       "       ['Ford Pantera L', 15.8, 8, 351.0, 264, 4.22, 3.17, 14.5, 0, 1, 5,\n",
       "        4],\n",
       "       ['Ferrari Dino', 19.7, 6, 145.0, 175, 3.62, 2.77, 15.5, 0, 1, 5,\n",
       "        6],\n",
       "       ['Maserati Bora', 15.0, 8, 301.0, 335, 3.54, 3.57, 14.6, 0, 1, 5,\n",
       "        8],\n",
       "       ['Volvo 142E', 21.4, 4, 121.0, 109, 4.11, 2.78, 18.6, 1, 1, 4, 2]],\n",
       "      dtype=object)"
      ]
     },
     "metadata": {},
     "execution_count": 20
    }
   ],
   "source": [
    "numpy_mtcars = mtcars.to_numpy()\n",
    "numpy_mtcars"
   ]
  },
  {
   "cell_type": "code",
   "execution_count": 16,
   "metadata": {},
   "outputs": [
    {
     "output_type": "execute_result",
     "data": {
      "text/plain": [
       "2"
      ]
     },
     "metadata": {},
     "execution_count": 16
    }
   ],
   "source": [
    "numpy_mtcars.ndim"
   ]
  },
  {
   "cell_type": "code",
   "execution_count": 17,
   "metadata": {},
   "outputs": [
    {
     "output_type": "execute_result",
     "data": {
      "text/plain": [
       "384"
      ]
     },
     "metadata": {},
     "execution_count": 17
    }
   ],
   "source": [
    "numpy_mtcars.size"
   ]
  },
  {
   "cell_type": "code",
   "execution_count": 18,
   "metadata": {},
   "outputs": [
    {
     "output_type": "execute_result",
     "data": {
      "text/plain": [
       "(32, 12)"
      ]
     },
     "metadata": {},
     "execution_count": 18
    }
   ],
   "source": [
    "numpy_mtcars.shape"
   ]
  },
  {
   "cell_type": "code",
   "execution_count": 19,
   "metadata": {},
   "outputs": [
    {
     "output_type": "execute_result",
     "data": {
      "text/plain": [
       "array([['Volvo 142E', 'Maserati Bora', 'Ferrari Dino', 'Ford Pantera L',\n",
       "        'Lotus Europa', 'Porsche 914-2', 'Fiat X1-9', 'Pontiac Firebird',\n",
       "        'Camaro Z28', 'AMC Javelin', 'Dodge Challenger', 'Toyota Corona',\n",
       "        'Toyota Corolla', 'Honda Civic', 'Fiat 128', 'Chrysler Imperial',\n",
       "        'Lincoln Continental', 'Cadillac Fleetwood', 'Merc 450SLC',\n",
       "        'Merc 450SL', 'Merc 450SE', 'Merc 280C', 'Merc 280', 'Merc 230',\n",
       "        'Merc 240D', 'Duster 360', 'Valiant', 'Hornet Sportabout',\n",
       "        'Hornet 4 Drive', 'Datsun 710', 'Mazda RX4 Wag', 'Mazda RX4'],\n",
       "       [21.4, 15.0, 19.7, 15.8, 30.4, 26.0, 27.3, 19.2, 13.3, 15.2, 15.5,\n",
       "        21.5, 33.9, 30.4, 32.4, 14.7, 10.4, 10.4, 15.2, 17.3, 16.4, 17.8,\n",
       "        19.2, 22.8, 24.4, 14.3, 18.1, 18.7, 21.4, 22.8, 21.0, 21.0],\n",
       "       [4, 8, 6, 8, 4, 4, 4, 8, 8, 8, 8, 4, 4, 4, 4, 8, 8, 8, 8, 8, 8, 6,\n",
       "        6, 4, 4, 8, 6, 8, 6, 4, 6, 6],\n",
       "       [121.0, 301.0, 145.0, 351.0, 95.1, 120.3, 79.0, 400.0, 350.0,\n",
       "        304.0, 318.0, 120.1, 71.1, 75.7, 78.7, 440.0, 460.0, 472.0,\n",
       "        275.8, 275.8, 275.8, 167.6, 167.6, 140.8, 146.7, 360.0, 225.0,\n",
       "        360.0, 258.0, 108.0, 160.0, 160.0],\n",
       "       [109, 335, 175, 264, 113, 91, 66, 175, 245, 150, 150, 97, 65, 52,\n",
       "        66, 230, 215, 205, 180, 180, 180, 123, 123, 95, 62, 245, 105,\n",
       "        175, 110, 93, 110, 110],\n",
       "       [4.11, 3.54, 3.62, 4.22, 3.77, 4.43, 4.08, 3.08, 3.73, 3.15, 2.76,\n",
       "        3.7, 4.22, 4.93, 4.08, 3.23, 3.0, 2.93, 3.07, 3.07, 3.07, 3.92,\n",
       "        3.92, 3.92, 3.69, 3.21, 2.76, 3.15, 3.08, 3.85, 3.9, 3.9],\n",
       "       [2.78, 3.57, 2.77, 3.17, 1.513, 2.14, 1.935, 3.845, 3.84, 3.435,\n",
       "        3.52, 2.465, 1.835, 1.615, 2.2, 5.345, 5.424, 5.25, 3.78, 3.73,\n",
       "        4.07, 3.44, 3.44, 3.15, 3.19, 3.57, 3.46, 3.44, 3.215, 2.32,\n",
       "        2.875, 2.62],\n",
       "       [18.6, 14.6, 15.5, 14.5, 16.9, 16.7, 18.9, 17.05, 15.41, 17.3,\n",
       "        16.87, 20.01, 19.9, 18.52, 19.47, 17.42, 17.82, 17.98, 18.0,\n",
       "        17.6, 17.4, 18.9, 18.3, 22.9, 20.0, 15.84, 20.22, 17.02, 19.44,\n",
       "        18.61, 17.02, 16.46],\n",
       "       [1, 0, 0, 0, 1, 0, 1, 0, 0, 0, 0, 1, 1, 1, 1, 0, 0, 0, 0, 0, 0, 1,\n",
       "        1, 1, 1, 0, 1, 0, 1, 1, 0, 0],\n",
       "       [1, 1, 1, 1, 1, 1, 1, 0, 0, 0, 0, 0, 1, 1, 1, 0, 0, 0, 0, 0, 0, 0,\n",
       "        0, 0, 0, 0, 0, 0, 0, 1, 1, 1],\n",
       "       [4, 5, 5, 5, 5, 5, 4, 3, 3, 3, 3, 3, 4, 4, 4, 3, 3, 3, 3, 3, 3, 4,\n",
       "        4, 4, 4, 3, 3, 3, 3, 4, 4, 4],\n",
       "       [2, 8, 6, 4, 2, 2, 1, 2, 4, 2, 2, 1, 1, 2, 1, 4, 4, 4, 3, 3, 3, 4,\n",
       "        4, 2, 2, 4, 1, 2, 1, 1, 4, 4]], dtype=object)"
      ]
     },
     "metadata": {},
     "execution_count": 19
    }
   ],
   "source": [
    "numpy.rot90(numpy_mtcars, k=-1)"
   ]
  },
  {
   "cell_type": "code",
   "execution_count": 22,
   "metadata": {},
   "outputs": [],
   "source": [
    "def weighted_avg_and_std(values: Sized, weights: Sized) -> List[float]:\n",
    "    \"\"\"Return the weighted average and standard deviation.\"\"\"\n",
    "    average = numpy.average(values, weights=weights, axis=0)[0]\n",
    "    # Fast and numerically precise:\n",
    "    variance = numpy.average((values - average) ** 2, weights=weights, axis=0)\n",
    "    sd = math.sqrt(variance)\n",
    "    error = 1.96 * sd / math.sqrt(len(values))\n",
    "    return [average, math.sqrt(variance), len(values), error]"
   ]
  },
  {
   "cell_type": "code",
   "execution_count": 23,
   "metadata": {},
   "outputs": [],
   "source": [
    "ids = [\"{:04d}\".format(id) for id in range(1, 2001)]\n",
    "years = range(1984, 2021)\n",
    "income_table = pandas.DataFrame({\"pid\": [], \"syear\": []})\n",
    "\n",
    "for year in years:\n",
    "    income_table = income_table.append(\n",
    "     pandas.DataFrame({\"pid\": ids, \"syear\": [year]*len(ids)})\n",
    "    )\n",
    "\n",
    "random_generator = numpy.random.default_rng(42)\n",
    "income_table[\"income\"] = random_generator.integers(low=1000, high=10000, size=(len(income_table[\"pid\"]),), )\n",
    "income_table[\"weight\"] = random_generator.uniform(low=1, high=2, size=(len(income_table[\"pid\"]),), )"
   ]
  },
  {
   "cell_type": "code",
   "execution_count": null,
   "metadata": {},
   "outputs": [],
   "source": []
  },
  {
   "cell_type": "code",
   "execution_count": 24,
   "metadata": {},
   "outputs": [],
   "source": [
    "\n",
    "income_grouped_by = income_table[[\"syear\", \"income\", \"weight\"]].groupby(\n",
    "        [\"syear\"]\n",
    "    )\n",
    "\n",
    "# Calculate weighted average\n",
    "aggregated = income_grouped_by.apply(\n",
    "        lambda data_frame: pandas.Series(\n",
    "            weighted_avg_and_std(\n",
    "                data_frame[[\"income\"]].to_numpy(), weights=data_frame[\"weight\"]\n",
    "            ),\n",
    "            [\"mean_income\", \"sd\", \"N\", \"error\"],\n",
    "        )\n",
    "    ).reset_index()\n",
    "# Calculate confidence interval boundaries\n",
    "aggregated[\"lower\"] = aggregated[\"mean_income\"] - aggregated[\"error\"]\n",
    "aggregated[\"upper\"] = aggregated[\"mean_income\"] + aggregated[\"error\"]\n"
   ]
  },
  {
   "cell_type": "code",
   "execution_count": null,
   "metadata": {},
   "outputs": [],
   "source": [
    "series = pandas.Series([2, 3, numpy.nan, None, 4])\n",
    "series"
   ]
  },
  {
   "cell_type": "code",
   "execution_count": null,
   "metadata": {},
   "outputs": [],
   "source": [
    "series.fillna(\"missing\")"
   ]
  },
  {
   "cell_type": "code",
   "execution_count": null,
   "metadata": {},
   "outputs": [],
   "source": [
    "(series > 0) | (series < 0) | (series == 0)"
   ]
  },
  {
   "cell_type": "code",
   "execution_count": null,
   "metadata": {},
   "outputs": [],
   "source": [
    "series"
   ]
  },
  {
   "cell_type": "code",
   "execution_count": null,
   "metadata": {},
   "outputs": [],
   "source": []
  },
  {
   "cell_type": "code",
   "execution_count": null,
   "metadata": {},
   "outputs": [],
   "source": []
  }
 ]
}