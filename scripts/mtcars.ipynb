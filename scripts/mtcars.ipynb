{
 "metadata": {
  "language_info": {
   "codemirror_mode": {
    "name": "ipython",
    "version": 3
   },
   "file_extension": ".py",
   "mimetype": "text/x-python",
   "name": "python",
   "nbconvert_exporter": "python",
   "pygments_lexer": "ipython3",
   "version": "3.8.5-final"
  },
  "orig_nbformat": 2,
  "kernelspec": {
   "name": "python385jvsc74a57bd0a50ab9f5ae6f3f71dbaf9800c62f6f9c63fbe335751a679a6aa720670a4f2db5",
   "display_name": "Python 3.8.5 64-bit ('Python-Introduction': pipenv)"
  }
 },
 "nbformat": 4,
 "nbformat_minor": 2,
 "cells": [
  {
   "cell_type": "code",
   "execution_count": null,
   "metadata": {},
   "outputs": [],
   "source": [
    "import time\n",
    "\n",
    "import pandas\n",
    "import numpy\n",
    "import math\n",
    "\n",
    "from typing import List, Sized\n",
    "\n",
    "from IPython.display import Markdown\n",
    "from pandas.api.types import CategoricalDtype"
   ]
  },
  {
   "source": [
    "# You can enrich your notebook with Markdown"
   ],
   "cell_type": "markdown",
   "metadata": {}
  },
  {
   "cell_type": "code",
   "execution_count": null,
   "metadata": {},
   "outputs": [],
   "source": [
    "mtcars = pandas.read_stata(\"./mtcars.dta\")"
   ]
  },
  {
   "cell_type": "code",
   "execution_count": null,
   "metadata": {},
   "outputs": [],
   "source": [
    "higher_gear_manual_cars = mtcars[(mtcars[\"gear\"] > 3) & (mtcars[\"am\"] == 1)]"
   ]
  },
  {
   "cell_type": "code",
   "execution_count": null,
   "metadata": {},
   "outputs": [],
   "source": [
    "higher_gear_manual_cars[[\"name\", \"mpg\"]][higher_gear_manual_cars[\"mpg\"] == higher_gear_manual_cars[\"mpg\"].max()]"
   ]
  },
  {
   "cell_type": "code",
   "execution_count": null,
   "metadata": {},
   "outputs": [],
   "source": [
    "higher_gear_manual_cars[[\"name\", \"mpg\"]].loc[[higher_gear_manual_cars[\"mpg\"].idxmax()]]"
   ]
  },
  {
   "cell_type": "code",
   "execution_count": null,
   "metadata": {},
   "outputs": [],
   "source": [
    "Markdown(\"\"\"\n",
    "# Miles per gallon\n",
    "- The {} is the car with the lowest miles per gallon value.\n",
    "- The {} is the car with the highest miles per gallon value.\n",
    "\"\"\".format(\n",
    "    higher_gear_manual_cars[\"name\"][higher_gear_manual_cars[\"mpg\"].idxmin()],\n",
    "    higher_gear_manual_cars[\"name\"][higher_gear_manual_cars[\"mpg\"].idxmax()]\n",
    ")\n",
    ")\n"
   ]
  },
  {
   "cell_type": "code",
   "execution_count": null,
   "metadata": {},
   "outputs": [],
   "source": [
    "Markdown(\"\"\"Existing gear shift ratios: `{}`\n",
    "\n",
    "Mean miles per gallon for the different gear ratios and transmissions:\n",
    "```\n",
    "{}\n",
    "```\n",
    "\"\"\".format(\n",
    "    sorted(mtcars[\"gear\"].unique()),\n",
    "    mtcars[[\"gear\", \"am\", \"mpg\"]].groupby([\"gear\", \"am\"]).mean()\n",
    ")\n",
    ")"
   ]
  },
  {
   "cell_type": "code",
   "execution_count": null,
   "metadata": {},
   "outputs": [],
   "source": [
    "mtcars[\"am\"].dtype"
   ]
  },
  {
   "cell_type": "code",
   "execution_count": null,
   "metadata": {},
   "outputs": [],
   "source": [
    "pandas.Series(pandas.Categorical.from_codes(mtcars[\"am\"], categories=[\"automatic\", \"manual\"])).dtype"
   ]
  },
  {
   "source": [
    "# NumPy"
   ],
   "cell_type": "markdown",
   "metadata": {}
  },
  {
   "cell_type": "code",
   "execution_count": null,
   "metadata": {},
   "outputs": [],
   "source": [
    "\n",
    "array = numpy.empty(101, dtype=numpy.int64)\n",
    "start = time.time()\n",
    "print(\"NumPy value:\", array.mean())\n",
    "end = time.time()\n",
    "print(\"NumPy time:\", end - start)\n",
    "\n",
    "start = time.time()\n",
    "python_list = [int(item) for item in array]\n",
    "print(\"Vanilla Python value:\", sum(python_list)/len(array))\n",
    "end = time.time()\n",
    "print(\"Vanilla Python time:\", end - start)\n"
   ]
  },
  {
   "cell_type": "code",
   "execution_count": null,
   "metadata": {},
   "outputs": [],
   "source": [
    "numpy_mtcars = mtcars.to_numpy()"
   ]
  },
  {
   "cell_type": "code",
   "execution_count": null,
   "metadata": {},
   "outputs": [],
   "source": [
    "numpy_mtcars.ndim"
   ]
  },
  {
   "cell_type": "code",
   "execution_count": null,
   "metadata": {},
   "outputs": [],
   "source": [
    "numpy_mtcars.size"
   ]
  },
  {
   "cell_type": "code",
   "execution_count": null,
   "metadata": {},
   "outputs": [],
   "source": [
    "numpy_mtcars.shape"
   ]
  },
  {
   "cell_type": "code",
   "execution_count": null,
   "metadata": {},
   "outputs": [],
   "source": [
    "numpy.rot90(numpy_mtcars, k=-1)"
   ]
  },
  {
   "cell_type": "code",
   "execution_count": null,
   "metadata": {},
   "outputs": [],
   "source": [
    "def weighted_avg_and_std(values: Sized, weights: Sized) -> List[float]:\n",
    "    \"\"\"Return the weighted average and standard deviation.\"\"\"\n",
    "    average = numpy.average(values, weights=weights, axis=0)[0]\n",
    "    # Fast and numerically precise:\n",
    "    variance = numpy.average((values - average) ** 2, weights=weights, axis=0)\n",
    "    sd = math.sqrt(variance)\n",
    "    error = 1.96 * sd / math.sqrt(len(values))\n",
    "    return [average, math.sqrt(variance), len(values), error]"
   ]
  },
  {
   "cell_type": "code",
   "execution_count": null,
   "metadata": {},
   "outputs": [],
   "source": [
    "ids = [\"{:04d}\".format(id) for id in range(1, 2001)]\n",
    "years = range(1984, 2021)\n",
    "income_table = pandas.DataFrame({\"pid\": [], \"syear\": []})\n",
    "\n",
    "for year in years:\n",
    "    income_table = income_table.append(\n",
    "     pandas.DataFrame({\"pid\": ids, \"syear\": [year]*len(ids)})\n",
    "    )\n",
    "\n",
    "random_generator = numpy.random.default_rng(42)\n",
    "income_table[\"income\"] = random_generator.integers(low=1000, high=10000, size=(len(income_table[\"pid\"]),), )\n",
    "income_table[\"weight\"] = random_generator.uniform(low=1, high=2, size=(len(income_table[\"pid\"]),), )"
   ]
  },
  {
   "cell_type": "code",
   "execution_count": null,
   "metadata": {},
   "outputs": [],
   "source": [
    "\n",
    "income_grouped_by = income_table[[\"syear\", \"income\", \"weight\"]].groupby(\n",
    "        [\"syear\"]\n",
    "    )\n",
    "# Calculate weighted average\n",
    "aggregated = income_grouped_by.apply(\n",
    "        lambda data_frame: pandas.Series(\n",
    "            weighted_avg_and_std(\n",
    "                data_frame[[\"income\"]].to_numpy(), weights=data_frame[\"weight\"]\n",
    "            ),\n",
    "            [\"mean_income\", \"sd\", \"N\", \"error\"],\n",
    "        )\n",
    "    ).reset_index()\n",
    "# Calculate confidence interval boundaries\n",
    "aggregated[\"lower\"] = aggregated[\"mean_income\"] - aggregated[\"error\"]\n",
    "aggregated[\"upper\"] = aggregated[\"mean_income\"] + aggregated[\"error\"]"
   ]
  },
  {
   "cell_type": "code",
   "execution_count": null,
   "metadata": {},
   "outputs": [],
   "source": [
    "series = pandas.Series([2, 3, numpy.nan, None, 4])\n",
    "series"
   ]
  },
  {
   "cell_type": "code",
   "execution_count": null,
   "metadata": {},
   "outputs": [],
   "source": [
    "series.fillna(\"missing\")"
   ]
  },
  {
   "cell_type": "code",
   "execution_count": null,
   "metadata": {},
   "outputs": [],
   "source": [
    "(series > 0) | (series < 0) | (series == 0)"
   ]
  },
  {
   "cell_type": "code",
   "execution_count": null,
   "metadata": {},
   "outputs": [],
   "source": [
    "series"
   ]
  },
  {
   "cell_type": "code",
   "execution_count": null,
   "metadata": {},
   "outputs": [],
   "source": []
  },
  {
   "cell_type": "code",
   "execution_count": null,
   "metadata": {},
   "outputs": [],
   "source": []
  }
 ]
}